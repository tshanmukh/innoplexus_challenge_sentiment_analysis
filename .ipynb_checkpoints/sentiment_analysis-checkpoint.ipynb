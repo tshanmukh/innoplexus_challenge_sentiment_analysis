{
 "cells": [
  {
   "cell_type": "markdown",
   "metadata": {},
   "source": [
    "# sentiment analyis project"
   ]
  },
  {
   "cell_type": "markdown",
   "metadata": {},
   "source": [
    "## Preprocess and prepare a vocabulary"
   ]
  },
  {
   "cell_type": "code",
   "execution_count": 1,
   "metadata": {},
   "outputs": [],
   "source": [
    "# Imports \n",
    "import pandas as pd\n",
    "from matplotlib import pyplot as plt\n",
    "from collections import Counter\n",
    "import numpy as np\n",
    "import plotly.offline as pyo\n",
    "from string import punctuation\n"
   ]
  },
  {
   "cell_type": "code",
   "execution_count": 4,
   "metadata": {},
   "outputs": [
    {
     "name": "stdout",
     "output_type": "stream",
     "text": [
      "5279\n"
     ]
    }
   ],
   "source": [
    "# Reading the data to a csv\n",
    "# Reading the data from csv\n",
    "train_csv = pd.read_csv('dataset/train.csv')\n",
    "print(len(train_csv.text))"
   ]
  },
  {
   "cell_type": "code",
   "execution_count": 23,
   "metadata": {},
   "outputs": [
    {
     "data": {
      "text/plain": [
       "'!\"#$%&\\'()*+,-./:;<=>?@[\\\\]^_`{|}~'"
      ]
     },
     "execution_count": 23,
     "metadata": {},
     "output_type": "execute_result"
    }
   ],
   "source": [
    "punctuation\n"
   ]
  },
  {
   "cell_type": "code",
   "execution_count": 25,
   "metadata": {},
   "outputs": [],
   "source": [
    "reviews = ' '.join(list(train_csv.text))\n"
   ]
  },
  {
   "cell_type": "code",
   "execution_count": 26,
   "metadata": {},
   "outputs": [
    {
     "data": {
      "text/plain": [
       "str"
      ]
     },
     "execution_count": 26,
     "metadata": {},
     "output_type": "execute_result"
    }
   ],
   "source": [
    "type(reviews)"
   ]
  },
  {
   "cell_type": "code",
   "execution_count": 30,
   "metadata": {},
   "outputs": [
    {
     "name": "stdout",
     "output_type": "stream",
     "text": [
      "autoimmune diseases tend to come in clusters. as for gilenya – if you feel good, don’t think about i\n"
     ]
    },
    {
     "data": {
      "text/plain": [
       "['autoimmune',\n",
       " 'diseases',\n",
       " 'tend',\n",
       " 'to',\n",
       " 'come',\n",
       " 'in',\n",
       " 'clusters',\n",
       " 'as',\n",
       " 'for',\n",
       " 'gilenya',\n",
       " '–',\n",
       " 'if',\n",
       " 'you',\n",
       " 'feel',\n",
       " 'good',\n",
       " 'don’t',\n",
       " 'think',\n",
       " 'about',\n",
       " 'it',\n",
       " 'it',\n",
       " 'won’t',\n",
       " 'change',\n",
       " 'anything',\n",
       " 'but',\n",
       " 'waste',\n",
       " 'your',\n",
       " 'time',\n",
       " 'and',\n",
       " 'energy',\n",
       " 'i’m',\n",
       " 'taking',\n",
       " 'tysabri',\n",
       " 'and',\n",
       " 'feel',\n",
       " 'amazing',\n",
       " 'no',\n",
       " 'symptoms',\n",
       " 'other',\n",
       " 'than',\n",
       " 'dodgy',\n",
       " 'color',\n",
       " 'vision',\n",
       " 'but',\n",
       " 'i’ve',\n",
       " 'had',\n",
       " 'it',\n",
       " 'since',\n",
       " 'always',\n",
       " 'so',\n",
       " 'don’t',\n",
       " 'know',\n",
       " 'and',\n",
       " 'i',\n",
       " 'don’t',\n",
       " 'know',\n",
       " 'if',\n",
       " 'it',\n",
       " 'will',\n",
       " 'last',\n",
       " 'a',\n",
       " 'month',\n",
       " 'a',\n",
       " 'year',\n",
       " 'a',\n",
       " 'decade',\n",
       " 'ive',\n",
       " 'just',\n",
       " 'decided',\n",
       " 'to',\n",
       " 'enjoy',\n",
       " 'the',\n",
       " 'ride',\n",
       " 'no',\n",
       " 'point',\n",
       " 'in',\n",
       " 'worrying',\n",
       " 'i',\n",
       " 'can',\n",
       " 'completely',\n",
       " 'understand',\n",
       " 'why',\n",
       " 'you’d',\n",
       " 'want',\n",
       " 'to',\n",
       " 'try',\n",
       " 'it',\n",
       " 'but',\n",
       " 'results',\n",
       " 'reported',\n",
       " 'in',\n",
       " 'lectures',\n",
       " 'don’t',\n",
       " 'always',\n",
       " 'stand',\n",
       " 'up',\n",
       " 'to',\n",
       " 'the',\n",
       " 'scrutiny',\n",
       " 'of',\n",
       " 'peerreview']"
      ]
     },
     "execution_count": 30,
     "metadata": {},
     "output_type": "execute_result"
    }
   ],
   "source": [
    "reviews = reviews.lower() # lowercase, standardize\n",
    "print(reviews[0:100])\n",
    "all_text = ''.join([c for c in reviews if c not in punctuation])\n",
    "\n",
    "# split by new lines and spaces\n",
    "reviews_split = all_text.split('\\n')\n",
    "all_text = ' '.join(reviews_split)\n",
    "\n",
    "# create a list of words\n",
    "words = all_text.split()\n",
    "words[0:100]"
   ]
  },
  {
   "cell_type": "code",
   "execution_count": null,
   "metadata": {},
   "outputs": [],
   "source": []
  },
  {
   "cell_type": "code",
   "execution_count": null,
   "metadata": {},
   "outputs": [],
   "source": []
  }
 ],
 "metadata": {
  "kernelspec": {
   "display_name": "Python 3",
   "language": "python",
   "name": "python3"
  },
  "language_info": {
   "codemirror_mode": {
    "name": "ipython",
    "version": 3
   },
   "file_extension": ".py",
   "mimetype": "text/x-python",
   "name": "python",
   "nbconvert_exporter": "python",
   "pygments_lexer": "ipython3",
   "version": "3.6.5"
  }
 },
 "nbformat": 4,
 "nbformat_minor": 2
}
