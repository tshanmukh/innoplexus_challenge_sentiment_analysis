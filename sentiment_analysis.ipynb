{
  "nbformat": 4,
  "nbformat_minor": 0,
  "metadata": {
    "kernelspec": {
      "name": "python3",
      "display_name": "Python 3"
    },
    "language_info": {
      "codemirror_mode": {
        "name": "ipython",
        "version": 3
      },
      "file_extension": ".py",
      "mimetype": "text/x-python",
      "name": "python",
      "nbconvert_exporter": "python",
      "pygments_lexer": "ipython3",
      "version": "3.6.5"
    },
    "colab": {
      "name": "sentiment_analysis.ipynb",
      "version": "0.3.2",
      "provenance": [],
      "collapsed_sections": [],
      "toc_visible": true,
      "include_colab_link": true
    },
    "accelerator": "GPU"
  },
  "cells": [
    {
      "cell_type": "markdown",
      "metadata": {
        "id": "view-in-github",
        "colab_type": "text"
      },
      "source": [
        "<a href=\"https://colab.research.google.com/github/tshanmukh/sentiment_analysis/blob/master/sentiment_analysis.ipynb\" target=\"_parent\"><img src=\"https://colab.research.google.com/assets/colab-badge.svg\" alt=\"Open In Colab\"/></a>"
      ]
    },
    {
      "cell_type": "markdown",
      "metadata": {
        "id": "-bWkYBE5QO2n",
        "colab_type": "text"
      },
      "source": [
        "# sentiment analysis project"
      ]
    },
    {
      "cell_type": "code",
      "metadata": {
        "id": "VS_fl1tQQR9I",
        "colab_type": "code",
        "outputId": "d579a5df-e244-48af-9ffe-b23ca63a2302",
        "colab": {
          "base_uri": "https://localhost:8080/",
          "height": 125
        }
      },
      "source": [
        "from google.colab import drive\n",
        "\n",
        "drive.mount('/content/gdrive/')"
      ],
      "execution_count": 1,
      "outputs": [
        {
          "output_type": "stream",
          "text": [
            "Go to this URL in a browser: https://accounts.google.com/o/oauth2/auth?client_id=947318989803-6bn6qk8qdgf4n4g3pfee6491hc0brc4i.apps.googleusercontent.com&redirect_uri=urn%3Aietf%3Awg%3Aoauth%3A2.0%3Aoob&scope=email%20https%3A%2F%2Fwww.googleapis.com%2Fauth%2Fdocs.test%20https%3A%2F%2Fwww.googleapis.com%2Fauth%2Fdrive%20https%3A%2F%2Fwww.googleapis.com%2Fauth%2Fdrive.photos.readonly%20https%3A%2F%2Fwww.googleapis.com%2Fauth%2Fpeopleapi.readonly&response_type=code\n",
            "\n",
            "Enter your authorization code:\n",
            "··········\n",
            "Mounted at /content/gdrive/\n"
          ],
          "name": "stdout"
        }
      ]
    },
    {
      "cell_type": "code",
      "metadata": {
        "id": "fGUbY62SQWNY",
        "colab_type": "code",
        "colab": {}
      },
      "source": [
        "root_path = '/content/gdrive/My Drive/sentiment_analysis/'"
      ],
      "execution_count": 0,
      "outputs": []
    },
    {
      "cell_type": "markdown",
      "metadata": {
        "id": "xunShkUVQO2o",
        "colab_type": "text"
      },
      "source": [
        "## Preprocess and prepare a vocabulary"
      ]
    },
    {
      "cell_type": "code",
      "metadata": {
        "id": "VuCvslpPQO2p",
        "colab_type": "code",
        "colab": {}
      },
      "source": [
        "# Imports \n",
        "import pandas as pd\n",
        "from matplotlib import pyplot as plt\n",
        "from collections import Counter\n",
        "import numpy as np\n",
        "import plotly.offline as pyo\n",
        "from string import punctuation\n"
      ],
      "execution_count": 0,
      "outputs": []
    },
    {
      "cell_type": "code",
      "metadata": {
        "id": "IQOYHxzFQO2t",
        "colab_type": "code",
        "outputId": "afe5dbb9-23b2-4bf7-96b5-0dff57c6375f",
        "colab": {
          "base_uri": "https://localhost:8080/",
          "height": 34
        }
      },
      "source": [
        "# Reading the data to a csv\n",
        "# Reading the data from csv\n",
        "train_csv = pd.read_csv(root_path+'dataset/train.csv')\n",
        "print(len(train_csv.text))"
      ],
      "execution_count": 168,
      "outputs": [
        {
          "output_type": "stream",
          "text": [
            "5279\n"
          ],
          "name": "stdout"
        }
      ]
    },
    {
      "cell_type": "code",
      "metadata": {
        "id": "HOWOexDMQO2z",
        "colab_type": "code",
        "outputId": "608e5035-9bcc-4c4e-988a-58a1ed2938d9",
        "colab": {
          "base_uri": "https://localhost:8080/",
          "height": 34
        }
      },
      "source": [
        "punctuation\n"
      ],
      "execution_count": 169,
      "outputs": [
        {
          "output_type": "execute_result",
          "data": {
            "text/plain": [
              "'!\"#$%&\\'()*+,-./:;<=>?@[\\\\]^_`{|}~'"
            ]
          },
          "metadata": {
            "tags": []
          },
          "execution_count": 169
        }
      ]
    },
    {
      "cell_type": "code",
      "metadata": {
        "id": "LIyEf1YQQO23",
        "colab_type": "code",
        "colab": {}
      },
      "source": [
        "reviews = ' '.join(list(train_csv.text))\n"
      ],
      "execution_count": 0,
      "outputs": []
    },
    {
      "cell_type": "markdown",
      "metadata": {
        "id": "vq5UKIsutvT6",
        "colab_type": "text"
      },
      "source": [
        "## Creating a complete text in train csv to words"
      ]
    },
    {
      "cell_type": "code",
      "metadata": {
        "id": "pVVGstDNQO29",
        "colab_type": "code",
        "outputId": "eb7016e3-de1f-443b-83ea-f955fcb8906d",
        "colab": {
          "base_uri": "https://localhost:8080/",
          "height": 545
        }
      },
      "source": [
        "import string\n",
        "\n",
        "reviews = reviews.lower() # lowercase, standardize\n",
        "all_text = ''.join([c for c in reviews if c not in punctuation])\n",
        "\n",
        "# split by new lines and spaces\n",
        "reviews_split = all_text.split('\\n')\n",
        "all_text = ' '.join(reviews_split)\n",
        "\n",
        "# create a list of words\n",
        "words = all_text.split()\n",
        "words[30:60]"
      ],
      "execution_count": 171,
      "outputs": [
        {
          "output_type": "execute_result",
          "data": {
            "text/plain": [
              "['taking',\n",
              " 'tysabri',\n",
              " 'and',\n",
              " 'feel',\n",
              " 'amazing',\n",
              " 'no',\n",
              " 'symptoms',\n",
              " 'other',\n",
              " 'than',\n",
              " 'dodgy',\n",
              " 'color',\n",
              " 'vision',\n",
              " 'but',\n",
              " 'i’ve',\n",
              " 'had',\n",
              " 'it',\n",
              " 'since',\n",
              " 'always',\n",
              " 'so',\n",
              " 'don’t',\n",
              " 'know',\n",
              " 'and',\n",
              " 'i',\n",
              " 'don’t',\n",
              " 'know',\n",
              " 'if',\n",
              " 'it',\n",
              " 'will',\n",
              " 'last',\n",
              " 'a']"
            ]
          },
          "metadata": {
            "tags": []
          },
          "execution_count": 171
        }
      ]
    },
    {
      "cell_type": "markdown",
      "metadata": {
        "id": "-j-b3_kyt4iz",
        "colab_type": "text"
      },
      "source": [
        "## Removing the punctuation, hyphen, and dash"
      ]
    },
    {
      "cell_type": "code",
      "metadata": {
        "id": "6F5g00jkQO3A",
        "colab_type": "code",
        "outputId": "eb448ec2-e6f3-4e62-b066-4455b18a92f8",
        "colab": {
          "base_uri": "https://localhost:8080/",
          "height": 90
        }
      },
      "source": [
        "# imports for nltk stop words\n",
        "# Load library\n",
        "from nltk.corpus import stopwords\n",
        "\n",
        "# You will have to download the set of stop words the first time\n",
        "import nltk\n",
        "nltk.download('stopwords')\n",
        "\n",
        "table = str.maketrans('', '', string.punctuation)\n",
        "stripped = [w.translate(table).replace('’','').replace('–','') for w in words]\n",
        "print(stripped[:100])\n"
      ],
      "execution_count": 172,
      "outputs": [
        {
          "output_type": "stream",
          "text": [
            "[nltk_data] Downloading package stopwords to /root/nltk_data...\n",
            "[nltk_data]   Package stopwords is already up-to-date!\n",
            "['autoimmune', 'diseases', 'tend', 'to', 'come', 'in', 'clusters', 'as', 'for', 'gilenya', '', 'if', 'you', 'feel', 'good', 'dont', 'think', 'about', 'it', 'it', 'wont', 'change', 'anything', 'but', 'waste', 'your', 'time', 'and', 'energy', 'im', 'taking', 'tysabri', 'and', 'feel', 'amazing', 'no', 'symptoms', 'other', 'than', 'dodgy', 'color', 'vision', 'but', 'ive', 'had', 'it', 'since', 'always', 'so', 'dont', 'know', 'and', 'i', 'dont', 'know', 'if', 'it', 'will', 'last', 'a', 'month', 'a', 'year', 'a', 'decade', 'ive', 'just', 'decided', 'to', 'enjoy', 'the', 'ride', 'no', 'point', 'in', 'worrying', 'i', 'can', 'completely', 'understand', 'why', 'youd', 'want', 'to', 'try', 'it', 'but', 'results', 'reported', 'in', 'lectures', 'dont', 'always', 'stand', 'up', 'to', 'the', 'scrutiny', 'of', 'peerreview']\n"
          ],
          "name": "stdout"
        }
      ]
    },
    {
      "cell_type": "code",
      "metadata": {
        "id": "C4Awp23YQO3E",
        "colab_type": "code",
        "outputId": "8df97829-2ba3-432d-b3ea-b380f6711843",
        "colab": {
          "base_uri": "https://localhost:8080/",
          "height": 34
        }
      },
      "source": [
        "print(len(stripped))"
      ],
      "execution_count": 173,
      "outputs": [
        {
          "output_type": "stream",
          "text": [
            "1786150\n"
          ],
          "name": "stdout"
        }
      ]
    },
    {
      "cell_type": "markdown",
      "metadata": {
        "id": "EtEcpppyuCp_",
        "colab_type": "text"
      },
      "source": [
        "## Removing the stop words"
      ]
    },
    {
      "cell_type": "code",
      "metadata": {
        "id": "XFyDfG2aQO3G",
        "colab_type": "code",
        "colab": {}
      },
      "source": [
        "new_words = [word for word in stripped if word not in stopwords.words('english')]\n"
      ],
      "execution_count": 0,
      "outputs": []
    },
    {
      "cell_type": "code",
      "metadata": {
        "id": "ceKFWZxfQO3J",
        "colab_type": "code",
        "outputId": "0a7eb9c2-6b89-49ef-9148-ba960b64e262",
        "colab": {
          "base_uri": "https://localhost:8080/",
          "height": 34
        }
      },
      "source": [
        "len(new_words)"
      ],
      "execution_count": 175,
      "outputs": [
        {
          "output_type": "execute_result",
          "data": {
            "text/plain": [
              "1058756"
            ]
          },
          "metadata": {
            "tags": []
          },
          "execution_count": 175
        }
      ]
    },
    {
      "cell_type": "code",
      "metadata": {
        "id": "4Kub8nHUQO3M",
        "colab_type": "code",
        "colab": {}
      },
      "source": [
        "# vocabulary_latest = [word for word in new_words if len(word) > 2]"
      ],
      "execution_count": 0,
      "outputs": []
    },
    {
      "cell_type": "code",
      "metadata": {
        "id": "C9s2ZJQJQO3P",
        "colab_type": "code",
        "colab": {}
      },
      "source": [
        "# len(vocabulary_latest)"
      ],
      "execution_count": 0,
      "outputs": []
    },
    {
      "cell_type": "markdown",
      "metadata": {
        "id": "wFx6NEbfQO3X",
        "colab_type": "text"
      },
      "source": [
        "# pickling the progress"
      ]
    },
    {
      "cell_type": "code",
      "metadata": {
        "id": "V528nPX7QO3Y",
        "colab_type": "code",
        "colab": {}
      },
      "source": [
        "import pickle"
      ],
      "execution_count": 0,
      "outputs": []
    },
    {
      "cell_type": "code",
      "metadata": {
        "id": "2k6h9pnVQO3a",
        "colab_type": "code",
        "colab": {}
      },
      "source": [
        "vocabulary = open(root_path + 'pickle/vocabulary.pickle','wb')\n",
        "\n",
        "pickle.dump(new_words, vocabulary)\n",
        "\n",
        "vocabulary.close()\n"
      ],
      "execution_count": 0,
      "outputs": []
    },
    {
      "cell_type": "markdown",
      "metadata": {
        "id": "VJlm1iZxuzbC",
        "colab_type": "text"
      },
      "source": [
        "## saved the progress of pre processing \n",
        "### Start from here"
      ]
    },
    {
      "cell_type": "code",
      "metadata": {
        "id": "itKtgPNUvfyD",
        "colab_type": "code",
        "outputId": "042b0882-fd63-4e69-e996-39dff307604e",
        "colab": {
          "base_uri": "https://localhost:8080/",
          "height": 34
        }
      },
      "source": [
        "from google.colab import drive\n",
        "\n",
        "drive.mount('/content/gdrive/')"
      ],
      "execution_count": 180,
      "outputs": [
        {
          "output_type": "stream",
          "text": [
            "Drive already mounted at /content/gdrive/; to attempt to forcibly remount, call drive.mount(\"/content/gdrive/\", force_remount=True).\n"
          ],
          "name": "stdout"
        }
      ]
    },
    {
      "cell_type": "code",
      "metadata": {
        "id": "X9N8uwuou5xn",
        "colab_type": "code",
        "colab": {}
      },
      "source": [
        "# Imports \n",
        "import pandas as pd\n",
        "from matplotlib import pyplot as plt\n",
        "from collections import Counter\n",
        "import numpy as np\n",
        "import plotly.offline as pyo\n",
        "from string import punctuation\n",
        "\n",
        "root_path = '/content/gdrive/My Drive/sentiment_analysis/'"
      ],
      "execution_count": 0,
      "outputs": []
    },
    {
      "cell_type": "code",
      "metadata": {
        "id": "aDRCZdgMQO3e",
        "colab_type": "code",
        "outputId": "8ed79222-9377-480a-dca2-f7904e33ac51",
        "colab": {
          "base_uri": "https://localhost:8080/",
          "height": 34
        }
      },
      "source": [
        "file = open(root_path + 'pickle/vocabulary.pickle','rb')\n",
        "words = pickle.load(file)\n",
        "len(words), type(words)"
      ],
      "execution_count": 182,
      "outputs": [
        {
          "output_type": "execute_result",
          "data": {
            "text/plain": [
              "(1058756, list)"
            ]
          },
          "metadata": {
            "tags": []
          },
          "execution_count": 182
        }
      ]
    },
    {
      "cell_type": "markdown",
      "metadata": {
        "id": "Q_hP88U0QO3j",
        "colab_type": "text"
      },
      "source": [
        "## Tokenizing the words"
      ]
    },
    {
      "cell_type": "code",
      "metadata": {
        "id": "0NDwghhrQO3k",
        "colab_type": "code",
        "colab": {}
      },
      "source": [
        "# feel free to use this import \n",
        "from collections import Counter\n",
        "\n",
        "## Build a dictionary that maps words to integers\n",
        "counts = Counter(words)\n",
        "vocab = sorted(counts, key=counts.get, reverse=True)\n",
        "vocab_to_int = {word: ii for ii, word in enumerate(vocab, 1)}\n",
        "int_to_vocab = {ii: word for ii, word in enumerate(vocab, 1)}\n"
      ],
      "execution_count": 0,
      "outputs": []
    },
    {
      "cell_type": "code",
      "metadata": {
        "id": "8NHDEa4cQO3n",
        "colab_type": "code",
        "colab": {}
      },
      "source": [
        "vocab_to_int_pickle = open(root_path  + 'pickle/vocab_to_int.pickle','wb')\n",
        "int_to_vocab_pickle = open(root_path + 'pickle/int_to_vocab.pickle','wb')\n",
        "\n",
        "pickle.dump(vocab_to_int,vocab_to_int_pickle)\n",
        "pickle.dump(int_to_vocab,int_to_vocab_pickle)\n",
        "\n",
        "vocab_to_int_pickle.close()\n",
        "int_to_vocab_pickle.close()"
      ],
      "execution_count": 0,
      "outputs": []
    },
    {
      "cell_type": "markdown",
      "metadata": {
        "id": "XMLZnIuFQO3z",
        "colab_type": "text"
      },
      "source": [
        "# Functions to tokenize the raw review and label"
      ]
    },
    {
      "cell_type": "code",
      "metadata": {
        "id": "IgbAwvPTw-q7",
        "colab_type": "code",
        "outputId": "139a730f-d9c6-4b77-93b1-260b17d7ee7d",
        "colab": {
          "base_uri": "https://localhost:8080/",
          "height": 70
        }
      },
      "source": [
        "# imports for nltk stop words\n",
        "# Load library\n",
        "from nltk.corpus import stopwords\n",
        "\n",
        "# You will have to download the set of stop words the first time\n",
        "import nltk\n",
        "nltk.download('stopwords')\n",
        "\n"
      ],
      "execution_count": 185,
      "outputs": [
        {
          "output_type": "stream",
          "text": [
            "[nltk_data] Downloading package stopwords to /root/nltk_data...\n",
            "[nltk_data]   Package stopwords is already up-to-date!\n"
          ],
          "name": "stdout"
        },
        {
          "output_type": "execute_result",
          "data": {
            "text/plain": [
              "True"
            ]
          },
          "metadata": {
            "tags": []
          },
          "execution_count": 185
        }
      ]
    },
    {
      "cell_type": "code",
      "metadata": {
        "id": "klR3E_cTQO30",
        "colab_type": "code",
        "colab": {}
      },
      "source": [
        "import string\n",
        "def tokenize_review(review):\n",
        "    \n",
        "    words = review.lower().split(' ')\n",
        "    table = str.maketrans('', '', string.punctuation)\n",
        "    review = [w.translate(table).replace('’','').replace('–','') for w in words]\n",
        "    # review = ''.join([c for c in review if c not in punctuation])\n",
        "    tokens = []\n",
        "    for word in review:\n",
        "      \n",
        "        try:\n",
        "            token = vocab_to_int[word]\n",
        "            # print(word, token)\n",
        "        except KeyError:\n",
        "            token = 0\n",
        "            # print(word, token)\n",
        "        tokens.append(token)\n",
        "    return tokens"
      ],
      "execution_count": 0,
      "outputs": []
    },
    {
      "cell_type": "code",
      "metadata": {
        "id": "HciTJCm7QO32",
        "colab_type": "code",
        "colab": {}
      },
      "source": [
        "\n",
        "review_tokens = tokenize_review(list(train_csv.text)[0])"
      ],
      "execution_count": 0,
      "outputs": []
    },
    {
      "cell_type": "code",
      "metadata": {
        "id": "DgaFKMYfQO36",
        "colab_type": "code",
        "colab": {}
      },
      "source": [
        "def tokenize_setiment(label):\n",
        "  if label == '0' or label == 0:\n",
        "    return 0\n",
        "  elif label == '1' or label == 1:\n",
        "    return 1\n",
        "  elif label == '2' or label == 2:\n",
        "    return 2\n",
        "  else:\n",
        "    return None"
      ],
      "execution_count": 0,
      "outputs": []
    },
    {
      "cell_type": "code",
      "metadata": {
        "id": "GupoQj5kUUUe",
        "colab_type": "code",
        "outputId": "bf243854-ced7-4199-a619-c8af3b93092b",
        "colab": {
          "base_uri": "https://localhost:8080/",
          "height": 34
        }
      },
      "source": [
        "tokenize_setiment(list(train_csv.sentiment)[2000])"
      ],
      "execution_count": 215,
      "outputs": [
        {
          "output_type": "execute_result",
          "data": {
            "text/plain": [
              "2"
            ]
          },
          "metadata": {
            "tags": []
          },
          "execution_count": 215
        }
      ]
    },
    {
      "cell_type": "markdown",
      "metadata": {
        "id": "Mdzyz_ZtxU-B",
        "colab_type": "text"
      },
      "source": [
        "## parse the review based on the drug and tokenize it"
      ]
    },
    {
      "cell_type": "code",
      "metadata": {
        "id": "dHH4Qd_c06gU",
        "colab_type": "code",
        "colab": {}
      },
      "source": [
        "table = str.maketrans('', '', string.punctuation)\n",
        "drugs = set([w.translate(table).replace('’','').replace('–','').lower() for w in set(train_csv.drug)])"
      ],
      "execution_count": 0,
      "outputs": []
    },
    {
      "cell_type": "code",
      "metadata": {
        "id": "fFloY63cUiHu",
        "colab_type": "code",
        "colab": {}
      },
      "source": [
        "from nltk.tokenize import LineTokenizer\n",
        "\n",
        "def parse_review(review, drug, drugs_list):\n",
        "  tk = LineTokenizer()\n",
        "  lines = tk.tokenize(review)\n",
        "  review = ''.join(lines)\n",
        "  sentenses = review.lower().split('.')\n",
        "  table = str.maketrans('', '', string.punctuation)\n",
        "  drugs_list.remove(drug)\n",
        "  drug = drug.translate(table).replace('’','').replace('–','').lower()\n",
        "  token =[]\n",
        "  for sentense in sentenses:\n",
        "    review = set([w.translate(table).replace('’','').replace('–','') for w in sentense.split(' ') if w != ''])\n",
        "    if drugs_list & review:\n",
        "      continue\n",
        "      # print(\"Not expecting\", drugs_list & review, \"expecting only \",drug)\n",
        "    else:\n",
        "      token.extend(tokenize_review(sentense))\n",
        "  return token\n"
      ],
      "execution_count": 0,
      "outputs": []
    },
    {
      "cell_type": "code",
      "metadata": {
        "id": "FLTnsKC2i4kz",
        "colab_type": "code",
        "outputId": "6260633f-bb66-427f-e7b4-63184262deb0",
        "colab": {
          "base_uri": "https://localhost:8080/",
          "height": 90
        }
      },
      "source": [
        "print(train_csv.loc[10,'text'])\n",
        "print(train_csv.loc[10,'drug'])\n",
        "drugs_list = drugs.copy()\n",
        "# print(len(train_csv.loc[10,'text'].split(' ')))\n",
        "token = parse_review(train_csv.loc[10,'text'],train_csv.loc[10,'drug'], drugs_list)\n",
        "print(token)"
      ],
      "execution_count": 218,
      "outputs": [
        {
          "output_type": "stream",
          "text": [
            "I have no vision in one eye, unrelated to my eye injections. However, when problems began in my good eye, getting injections in that one and only eye is always a horrifying experience - mentally. It is still scary till today, you don't get used to it. I have had many eye injections. My first was when I was 43 years old, 7 years ago. I developed an eye infection, but no one could pinpoint what it exactly was. So one by one, every antibiotic was injected in the eye for a period of 6 weeks, and totalling 24 injections. It was a big relief when the last antibiotic available did the job, as there were no other options left after that. Two years later, I had cataract surgery. Within a week I developed retinal vein occlusion. Also, macular oedema came into play as well. And so began the Avasrin injections and then Lucentis. I would be getting them very frequently. And a year later, it became monthly injections. I have now stopped counting. Sometimes after an injection, it becomes pitch black for me. The first time I was terrified. But then I was told it was due to eye pressured and after a few Injures, all came back to normal. Main thing is I make sure what may or may not happen with the procedure and eye condition, so at least I am prepared. It's true, in Australia, neither Lucentis nor Eylea were covered by the government unless one had macular degeneration. Even though the other conditions are also vision threatening. Eylea has extended the time period between each of my injections, and that is the biggest milestone achieved to date. I am so grateful to my ALL of my ophthalmologists who have gone above and beyond their profession, to make the injection process as comfortable as they possibly can for me. And as for the researchers, well done and keep it going. The eye is priceless.\n",
            "lucentis\n",
            "[0, 0, 0, 242, 0, 8, 152, 4836, 0, 0, 152, 349, 70, 136, 0, 180, 851, 0, 0, 42, 152, 158, 349, 0, 0, 8, 0, 0, 152, 0, 292, 0, 12838, 270, 70, 4529, 70, 0, 0, 57, 1931, 2968, 273, 0, 52, 18, 39, 0, 0, 70, 0, 0, 0, 69, 152, 349, 70, 0, 22, 0, 0, 0, 0, 2214, 10, 391, 249, 10, 124, 70, 0, 436, 0, 152, 160, 0, 0, 8, 44, 6880, 0, 0, 1652, 0, 70, 0, 8, 0, 8, 66, 2969, 0, 1287, 0, 0, 152, 0, 0, 600, 0, 77, 34, 0, 20323, 546, 349, 70, 0, 0, 0, 466, 1499, 0, 0, 79, 2969, 135, 0, 0, 1247, 0, 0, 0, 0, 0, 290, 339, 0, 0, 70, 35, 10, 360, 0, 0, 1127, 45, 70, 277, 0, 78, 0, 436, 537, 993, 1871, 70, 7, 347, 1687, 592, 0, 1320, 0, 36, 70, 0, 0, 851, 0, 28570, 349, 0, 0, 1033, 70, 0, 19, 0, 158, 0, 0, 1500, 70, 0, 0, 48, 360, 0, 1341, 1265, 349, 70, 0, 0, 0, 522, 6123, 70, 355, 0, 0, 178, 0, 1653, 11579, 1851, 0, 0, 70, 0, 22, 16, 0, 0, 4955, 70, 0, 0, 0, 0, 245, 0, 0, 199, 0, 152, 14334, 0, 0, 0, 0, 20324, 0, 592, 58, 0, 312, 70, 793, 288, 0, 0, 88, 182, 0, 4, 0, 4, 0, 892, 0, 0, 740, 0, 152, 429, 0, 0, 187, 0, 0, 2669, 70, 74, 313, 0, 0, 539, 0, 7, 242, 5734, 70, 0, 0, 0, 2237, 0, 0, 0, 0, 0, 6881, 0, 0, 874, 0, 0, 1321, 0, 10675, 0, 88, 0, 178, 586, 0, 2583, 0, 0, 1147, 0, 0, 0, 70, 0, 0, 0, 0, 388, 36, 198, 0, 181, 0, 111, 70, 0, 152, 0, 28571, 70]\n"
          ],
          "name": "stdout"
        }
      ]
    },
    {
      "cell_type": "markdown",
      "metadata": {
        "id": "8XOCTvf6FHcd",
        "colab_type": "text"
      },
      "source": [
        "# Creating a dataset from the train_csv"
      ]
    },
    {
      "cell_type": "code",
      "metadata": {
        "id": "YRhudvPRFGe1",
        "colab_type": "code",
        "outputId": "2f48c69a-52e3-44c9-b972-d4ae041ed8dd",
        "colab": {
          "base_uri": "https://localhost:8080/",
          "height": 34
        }
      },
      "source": [
        "from tqdm import tqdm\n",
        "\n",
        "text_dataset = []\n",
        "label_dataset = []\n",
        "for review in tqdm(zip(train_csv.text, train_csv.drug, train_csv.sentiment)):\n",
        "  drugs_list = drugs.copy()\n",
        "  text_dataset.append(parse_review(review[0],review[1].translate(table).replace('’','').replace('–','').lower(), drugs_list)) #added the preprocess for drugname\n",
        "  label_dataset.append(tokenize_setiment(review[2]))"
      ],
      "execution_count": 219,
      "outputs": [
        {
          "output_type": "stream",
          "text": [
            "5279it [00:04, 1118.83it/s]\n"
          ],
          "name": "stderr"
        }
      ]
    },
    {
      "cell_type": "code",
      "metadata": {
        "id": "P7uXLe8qqg6w",
        "colab_type": "code",
        "colab": {
          "base_uri": "https://localhost:8080/",
          "height": 34
        },
        "outputId": "ba43d9cd-aaae-4666-a35c-a1a0b6b45183"
      },
      "source": [
        "len(text_dataset), len(label_dataset) "
      ],
      "execution_count": 220,
      "outputs": [
        {
          "output_type": "execute_result",
          "data": {
            "text/plain": [
              "(5279, 5279)"
            ]
          },
          "metadata": {
            "tags": []
          },
          "execution_count": 220
        }
      ]
    },
    {
      "cell_type": "code",
      "metadata": {
        "id": "bmsf2U7gH1d4",
        "colab_type": "code",
        "outputId": "237a9a4d-ab05-430c-baf6-7c55de39fcca",
        "colab": {
          "base_uri": "https://localhost:8080/",
          "height": 52
        }
      },
      "source": [
        "reviews_ints = text_dataset.copy()\n",
        "encoded_labels = label_dataset.copy()\n",
        "\n",
        "print('Number of reviews before removing outliers: ', len(reviews_ints))\n",
        "\n",
        "## remove any reviews/labels with zero length from the reviews_ints list.\n",
        "\n",
        "# get indices of any reviews with length 0\n",
        "non_zero_idx = [ii for ii, review in enumerate(reviews_ints) if len(review) != 0]\n",
        "\n",
        "# remove 0-length reviews and their labels\n",
        "reviews_ints = [reviews_ints[ii] for ii in non_zero_idx]\n",
        "encoded_labels = np.array([encoded_labels[ii] for ii in non_zero_idx])\n",
        "\n",
        "print('Number of reviews after removing outliers: ', len(reviews_ints))"
      ],
      "execution_count": 221,
      "outputs": [
        {
          "output_type": "stream",
          "text": [
            "Number of reviews before removing outliers:  5279\n",
            "Number of reviews after removing outliers:  5233\n"
          ],
          "name": "stdout"
        }
      ]
    },
    {
      "cell_type": "code",
      "metadata": {
        "id": "vz9WYvyjKFjB",
        "colab_type": "code",
        "outputId": "8257b7e8-c1aa-4eda-db5b-eaeebc002f08",
        "colab": {
          "base_uri": "https://localhost:8080/",
          "height": 34
        }
      },
      "source": [
        "text_dataset, label_dataset = None, None\n",
        "print(encoded_labels)"
      ],
      "execution_count": 222,
      "outputs": [
        {
          "output_type": "stream",
          "text": [
            "[2 2 2 ... 2 2 0]\n"
          ],
          "name": "stdout"
        }
      ]
    },
    {
      "cell_type": "markdown",
      "metadata": {
        "id": "E5RrcSjbAFTw",
        "colab_type": "text"
      },
      "source": [
        "# Creating a model"
      ]
    },
    {
      "cell_type": "code",
      "metadata": {
        "id": "hJz351qfEREx",
        "colab_type": "code",
        "colab": {}
      },
      "source": [
        "from matplotlib import pyplot as plt\n",
        "import numpy as np"
      ],
      "execution_count": 0,
      "outputs": []
    },
    {
      "cell_type": "code",
      "metadata": {
        "id": "fUgibrRQi4kD",
        "colab_type": "code",
        "outputId": "d5793745-1375-4049-b12f-03774d1d5208",
        "colab": {
          "base_uri": "https://localhost:8080/",
          "height": 286
        }
      },
      "source": [
        "lengths =[]\n",
        "for rev in reviews_ints:\n",
        "  lengths.append(len(rev))\n",
        "print(max(lengths))\n",
        "%matplotlib inline\n",
        "plt.plot(lengths)\n",
        "plt.show()\n",
        "\n",
        "# sum(lengths)/len(lengths)\n",
        "lengths = None"
      ],
      "execution_count": 224,
      "outputs": [
        {
          "output_type": "stream",
          "text": [
            "13488\n"
          ],
          "name": "stdout"
        },
        {
          "output_type": "display_data",
          "data": {
            "image/png": "[encoded data removed]",
            "text/plain": [
              "<Figure size 432x288 with 1 Axes>"
            ]
          },
          "metadata": {
            "tags": []
          }
        }
      ]
    },
    {
      "cell_type": "code",
      "metadata": {
        "id": "LQY6eyR9i4jc",
        "colab_type": "code",
        "colab": {}
      },
      "source": [
        "def pad_features(reviews_ints, seq_length):\n",
        "    ''' Return features of review_ints, where each review is padded with 0's \n",
        "        or truncated to the input seq_length.\n",
        "    '''\n",
        "    \n",
        "    # getting the correct rows x cols shape\n",
        "    features = np.zeros((len(reviews_ints), seq_length), dtype=int)\n",
        "    # for each review, I grab that review and \n",
        "    for i, row in enumerate(reviews_ints):\n",
        "        features[i, -len(row):] = np.array(row)[:seq_length]\n",
        "    \n",
        "    return features\n"
      ],
      "execution_count": 0,
      "outputs": []
    },
    {
      "cell_type": "code",
      "metadata": {
        "id": "wMV96afqi4h5",
        "colab_type": "code",
        "outputId": "91d54b6f-ea0c-41cb-cfc0-99b0b6e88a2b",
        "colab": {
          "base_uri": "https://localhost:8080/",
          "height": 34
        }
      },
      "source": [
        "seq_length = 600\n",
        "\n",
        "features = pad_features(reviews_ints, seq_length=seq_length)\n",
        "\n",
        "# ## test statements - do not change - ##\n",
        "# assert len(features)==len(reviews_ints), \"Your features should have as many rows as reviews.\"\n",
        "# assert len(features[0])==seq_length, \"Each feature row should contain seq_length values.\"\n",
        "\n",
        "# print first 10 values of the first 30 batches \n",
        "print(features.shape)"
      ],
      "execution_count": 228,
      "outputs": [
        {
          "output_type": "stream",
          "text": [
            "(5233, 600)\n"
          ],
          "name": "stdout"
        }
      ]
    },
    {
      "cell_type": "markdown",
      "metadata": {
        "id": "i7wBZc9CK3DB",
        "colab_type": "text"
      },
      "source": [
        "# Dataset split"
      ]
    },
    {
      "cell_type": "code",
      "metadata": {
        "id": "DHoIJq-jg3Am",
        "colab_type": "code",
        "outputId": "116222aa-3b93-4578-c0e0-1ae8fc1fc9fb",
        "colab": {
          "base_uri": "https://localhost:8080/",
          "height": 87
        }
      },
      "source": [
        "split_frac = 0.8\n",
        "\n",
        "## split data into training, validation, and test data (features and labels, x and y)\n",
        "\n",
        "split_idx = int(len(features)*0.8)\n",
        "train_x, remaining_x = features[:split_idx], features[split_idx:]\n",
        "train_y, remaining_y = encoded_labels[:split_idx], encoded_labels[split_idx:]\n",
        "\n",
        "# test_idx = int(len(remaining_x)*0.5)\n",
        "# val_x, test_x = remaining_x[:test_idx], remaining_x[test_idx:]\n",
        "# val_y, test_y = remaining_y[:test_idx], remaining_y[test_idx:]\n",
        "\n",
        "val_x = remaining_x\n",
        "val_y = remaining_y\n",
        "\n",
        "## print out the shapes of your resultant feature data\n",
        "print(\"\\t\\t\\tFeature Shapes:\")\n",
        "print(\"Train set: \\t\\t{}\".format(train_x.shape), \n",
        "      \"\\nValidation set: \\t{}\".format(val_x.shape))\n",
        "\n",
        "features= None\n",
        "train_y.shape"
      ],
      "execution_count": 229,
      "outputs": [
        {
          "output_type": "stream",
          "text": [
            "\t\t\tFeature Shapes:\n",
            "Train set: \t\t(4186, 600) \n",
            "Validation set: \t(1047, 600)\n"
          ],
          "name": "stdout"
        },
        {
          "output_type": "execute_result",
          "data": {
            "text/plain": [
              "(4186,)"
            ]
          },
          "metadata": {
            "tags": []
          },
          "execution_count": 229
        }
      ]
    },
    {
      "cell_type": "markdown",
      "metadata": {
        "id": "RlRw02JULJGM",
        "colab_type": "text"
      },
      "source": [
        "# dataloaders and batching"
      ]
    },
    {
      "cell_type": "code",
      "metadata": {
        "id": "OZb81qlKK_4W",
        "colab_type": "code",
        "colab": {}
      },
      "source": [
        "import torch\n",
        "from torch.utils.data import TensorDataset, DataLoader\n",
        "\n",
        "# create Tensor datasets\n",
        "train_data = TensorDataset(torch.from_numpy(train_x), torch.from_numpy(train_y))\n",
        "valid_data = TensorDataset(torch.from_numpy(val_x), torch.from_numpy(val_y))\n",
        "# test_data = TensorDataset(torch.from_numpy(test_x), torch.from_numpy(test_y))\n",
        "\n",
        "# dataloaders\n",
        "batch_size = 50\n",
        "\n",
        "# make sure the SHUFFLE your training data\n",
        "train_loader = DataLoader(train_data, shuffle=True, batch_size=batch_size, drop_last=True )\n",
        "valid_loader = DataLoader(valid_data, shuffle=True, batch_size=batch_size, drop_last=True )\n",
        "# test_loader = DataLoader(test_data, shuffle=True, batch_size=batch_size, drop_last=True )"
      ],
      "execution_count": 0,
      "outputs": []
    },
    {
      "cell_type": "code",
      "metadata": {
        "id": "1icgJNfJnScL",
        "colab_type": "code",
        "colab": {}
      },
      "source": [
        ""
      ],
      "execution_count": 0,
      "outputs": []
    },
    {
      "cell_type": "code",
      "metadata": {
        "id": "AUz-DGksLHPz",
        "colab_type": "code",
        "outputId": "939277ca-657f-4e1a-a73e-b1c3a4c46a3a",
        "colab": {
          "base_uri": "https://localhost:8080/",
          "height": 281
        }
      },
      "source": [
        "# obtain one batch of training data\n",
        "dataiter = iter(train_loader)\n",
        "sample_x, sample_y = dataiter.next()\n",
        "\n",
        "print('Sample input size: ', sample_x.size()) # batch_size, seq_length\n",
        "print('Sample input: \\n', sample_x)\n",
        "print()\n",
        "print('Sample label size: ', sample_y.size()) # batch_size\n",
        "print('Sample label: \\n', sample_y)"
      ],
      "execution_count": 235,
      "outputs": [
        {
          "output_type": "stream",
          "text": [
            "Sample input size:  torch.Size([50, 600])\n",
            "Sample input: \n",
            " tensor([[   0,    0,    0,  ...,    0,  429,   70],\n",
            "        [   0,    0,    0,  ...,  155,    0,  232],\n",
            "        [   0,    0,    0,  ...,  200,  142,    0],\n",
            "        ...,\n",
            "        [   0,    0,    0,  ..., 3840,   11,   70],\n",
            "        [1473,    0, 1790,  ...,   96, 2038, 3722],\n",
            "        [   0,    0,    0,  ...,   42,    0,   70]])\n",
            "\n",
            "Sample label size:  torch.Size([50])\n",
            "Sample label: \n",
            " tensor([1, 1, 2, 0, 2, 2, 2, 2, 2, 1, 2, 2, 1, 2, 0, 2, 2, 2, 0, 2, 2, 1, 2, 2,\n",
            "        2, 2, 2, 2, 2, 2, 2, 2, 2, 0, 2, 2, 2, 1, 2, 1, 2, 1, 2, 2, 2, 1, 2, 2,\n",
            "        2, 1])\n"
          ],
          "name": "stdout"
        }
      ]
    },
    {
      "cell_type": "markdown",
      "metadata": {
        "id": "xFvmRcCcL1ux",
        "colab_type": "text"
      },
      "source": [
        "# Pytorch Network"
      ]
    },
    {
      "cell_type": "code",
      "metadata": {
        "id": "n-r6MZk0LtMp",
        "colab_type": "code",
        "outputId": "bf318e74-4714-4214-8c87-cc309736075f",
        "colab": {
          "base_uri": "https://localhost:8080/",
          "height": 34
        }
      },
      "source": [
        "train_on_gpu = torch.cuda.is_available()\n",
        "if(train_on_gpu):\n",
        "  print(\"Training on GPU\")\n",
        "else:\n",
        "  print('No GPU available. Training on CPU')"
      ],
      "execution_count": 236,
      "outputs": [
        {
          "output_type": "stream",
          "text": [
            "Training on GPU\n"
          ],
          "name": "stdout"
        }
      ]
    },
    {
      "cell_type": "code",
      "metadata": {
        "id": "nV-cz0ngMAvL",
        "colab_type": "code",
        "colab": {}
      },
      "source": [
        "\n",
        "import torch.nn as nn\n",
        "import torch.nn.functional as F\n",
        "\n",
        "class SentimentRNN(nn.Module):\n",
        "    \"\"\"\n",
        "    The RNN model that will be used to perform Sentiment analysis.\n",
        "    \"\"\"\n",
        "\n",
        "    def __init__(self, vocab_size, output_size, embedding_dim, hidden_dim, n_layers, drop_prob=0.5):\n",
        "        \"\"\"\n",
        "        Initialize the model by setting up the layers.\n",
        "        \"\"\"\n",
        "        super(SentimentRNN, self).__init__()\n",
        "\n",
        "        self.output_size = output_size\n",
        "        self.n_layers = n_layers\n",
        "        self.hidden_dim = hidden_dim\n",
        "        \n",
        "        # embedding and LSTM layers\n",
        "        self.embedding = nn.Embedding(vocab_size, embedding_dim)\n",
        "        self.lstm = nn.LSTM(embedding_dim, hidden_dim, n_layers, \n",
        "                            dropout=drop_prob, batch_first=True)\n",
        "        \n",
        "        # dropout layer\n",
        "        self.dropout = nn.Dropout(0.3)\n",
        "        \n",
        "        # linear and sigmoid layers\n",
        "        self.fc = nn.Linear(hidden_dim, output_size)\n",
        "        self.sig = nn.LogSoftmax(dim=1)\n",
        "        \n",
        "\n",
        "    def forward(self, x, hidden):\n",
        "        \"\"\"\n",
        "        Perform a forward pass of our model on some input and hidden state.\n",
        "        \"\"\"\n",
        "        batch_size = x.size(0)\n",
        "\n",
        "        # embeddings and lstm_out\n",
        "        embeds = self.embedding(x)\n",
        "        lstm_out, hidden = self.lstm(embeds, hidden)\n",
        "    \n",
        "        # stack up lstm outputs\n",
        "        lstm_out = lstm_out.contiguous().view(-1, self.hidden_dim)\n",
        "        \n",
        "        # dropout and fully-connected layer\n",
        "        out = self.dropout(lstm_out)\n",
        "        out = self.fc(out)\n",
        "        # print(out.shape)\n",
        "        # sigmoid function\n",
        "        sig_out = self.sig(out)\n",
        "        # sig_out = out\n",
        "        # reshape to be batch_size first\n",
        "        sig_out = sig_out.view(batch_size, -1, 3)\n",
        "        sig_out = sig_out[:, -1] # get last batch of labels\n",
        "        \n",
        "        # return last sigmoid output and hidden state\n",
        "        return sig_out, hidden\n",
        "    \n",
        "    \n",
        "    def init_hidden(self, batch_size):\n",
        "        ''' Initializes hidden state '''\n",
        "        # Create two new tensors with sizes n_layers x batch_size x hidden_dim,\n",
        "        # initialized to zero, for hidden state and cell state of LSTM\n",
        "        weight = next(self.parameters()).data\n",
        "        \n",
        "        if (train_on_gpu):\n",
        "            hidden = (weight.new(self.n_layers, batch_size, self.hidden_dim).zero_().cuda(),\n",
        "                  weight.new(self.n_layers, batch_size, self.hidden_dim).zero_().cuda())\n",
        "        else:\n",
        "            hidden = (weight.new(self.n_layers, batch_size, self.hidden_dim).zero_(),\n",
        "                      weight.new(self.n_layers, batch_size, self.hidden_dim).zero_())\n",
        "        \n",
        "        return hidden"
      ],
      "execution_count": 0,
      "outputs": []
    },
    {
      "cell_type": "code",
      "metadata": {
        "id": "pApisARZRVAf",
        "colab_type": "code",
        "outputId": "0c08238c-4a73-4eab-e1a3-d93533e97f97",
        "colab": {
          "base_uri": "https://localhost:8080/",
          "height": 140
        }
      },
      "source": [
        "\n",
        "# Instantiate the model w/ hyperparams\n",
        "vocab_size = len(vocab_to_int)+1 # +1 for the 0 padding + our word tokens\n",
        "output_size = 3\n",
        "embedding_dim = 400\n",
        "hidden_dim = 256\n",
        "n_layers = 2\n",
        "\n",
        "net = SentimentRNN(vocab_size, output_size, embedding_dim, hidden_dim, n_layers)\n",
        "\n",
        "print(net)"
      ],
      "execution_count": 248,
      "outputs": [
        {
          "output_type": "stream",
          "text": [
            "SentimentRNN(\n",
            "  (embedding): Embedding(53133, 400)\n",
            "  (lstm): LSTM(400, 256, num_layers=2, batch_first=True, dropout=0.5)\n",
            "  (dropout): Dropout(p=0.3)\n",
            "  (fc): Linear(in_features=256, out_features=3, bias=True)\n",
            "  (sig): LogSoftmax()\n",
            ")\n"
          ],
          "name": "stdout"
        }
      ]
    },
    {
      "cell_type": "code",
      "metadata": {
        "id": "da2YsLZHRbph",
        "colab_type": "code",
        "colab": {}
      },
      "source": [
        "# loss and optimization functions\n",
        "lr=0.001\n",
        "\n",
        "criterion = nn.NLLLoss()\n",
        "optimizer = torch.optim.Adam(net.parameters(), lr=lr)"
      ],
      "execution_count": 0,
      "outputs": []
    },
    {
      "cell_type": "code",
      "metadata": {
        "id": "WPr7yJLhTqYm",
        "colab_type": "code",
        "outputId": "788fc44c-917e-4cac-f6d3-6edfcad6ea76",
        "colab": {
          "base_uri": "https://localhost:8080/",
          "height": 369
        }
      },
      "source": [
        "\n",
        "# training params\n",
        "\n",
        "epochs = 25 # 3-4 is approx where I noticed the validation loss stop decreasing\n",
        "\n",
        "counter = 0\n",
        "print_every = 100\n",
        "clip=5 # gradient clipping\n",
        "\n",
        "# move model to GPU, if available\n",
        "if(train_on_gpu):\n",
        "    net.cuda()\n",
        "    # net.to('cuda')\n",
        "\n",
        "net.train()\n",
        "# train for some number of epochs\n",
        "for e in range(epochs):\n",
        "    # initialize hidden state\n",
        "    h = net.init_hidden(batch_size)\n",
        "\n",
        "    # batch loop\n",
        "    for inputs, labels in train_loader:\n",
        "        counter += 1\n",
        "        # labels = torch.tensor(labels, dtype=torch.long)\n",
        "        if(train_on_gpu):\n",
        "            inputs, labels = inputs.cuda(), labels.cuda()\n",
        "\n",
        "        # Creating new variables for the hidden state, otherwise\n",
        "        # we'd backprop through the entire training history\n",
        "        h = tuple([each.data for each in h])\n",
        "\n",
        "        # zero accumulated gradients\n",
        "        net.zero_grad()\n",
        "        # print(inputs.shape)\n",
        "        # get the output from the model\n",
        "        output, h = net(inputs, h)\n",
        "        # print(output.shape, labels.shape)\n",
        "        # calculate the loss and perform backprop\n",
        "       \n",
        "        loss = criterion(output.squeeze(), labels)\n",
        "        loss.backward()\n",
        "        # `clip_grad_norm` helps prevent the exploding gradient problem in RNNs / LSTMs.\n",
        "        nn.utils.clip_grad_norm_(net.parameters(), clip)\n",
        "        optimizer.step()\n",
        "\n",
        "        # loss stats\n",
        "        # loss stats\n",
        "        if counter % print_every == 0:\n",
        "            # Get validation loss\n",
        "            val_h = net.init_hidden(batch_size)\n",
        "            val_losses = []\n",
        "            net.eval()\n",
        "            for inputs, labels in valid_loader:\n",
        "\n",
        "                # Creating new variables for the hidden state, otherwise\n",
        "                # we'd backprop through the entire training history\n",
        "                val_h = tuple([each.data for each in val_h])\n",
        "\n",
        "                if(train_on_gpu):\n",
        "                    inputs, labels = inputs.cuda(), labels.cuda()\n",
        "\n",
        "                output, val_h = net(inputs, val_h)\n",
        "                val_loss = criterion(output.squeeze(), labels.squeeze())\n",
        "\n",
        "                val_losses.append(val_loss.item())\n",
        "\n",
        "            net.train()\n",
        "            print(\"Epoch: {}/{}...\".format(e, epochs),\n",
        "                  \"Step: {}...\".format(counter),\n",
        "                  \"Loss: {:.6f}...\".format(loss.item()),\n",
        "                  \"Val Loss: {:.6f}\".format(val_loss))\n",
        "\n"
      ],
      "execution_count": 250,
      "outputs": [
        {
          "output_type": "stream",
          "text": [
            "Epoch: 1/25... Step: 100... Loss: 0.562104... Val Loss: 0.805446\n",
            "Epoch: 2/25... Step: 200... Loss: 0.579568... Val Loss: 0.687330\n",
            "Epoch: 3/25... Step: 300... Loss: 0.489245... Val Loss: 0.959798\n",
            "Epoch: 4/25... Step: 400... Loss: 0.374069... Val Loss: 1.163930\n",
            "Epoch: 6/25... Step: 500... Loss: 0.099462... Val Loss: 0.783987\n",
            "Epoch: 7/25... Step: 600... Loss: 0.065502... Val Loss: 1.784991\n",
            "Epoch: 8/25... Step: 700... Loss: 0.112600... Val Loss: 2.205741\n",
            "Epoch: 9/25... Step: 800... Loss: 0.097045... Val Loss: 1.527392\n",
            "Epoch: 10/25... Step: 900... Loss: 0.184952... Val Loss: 1.927248\n",
            "Epoch: 12/25... Step: 1000... Loss: 0.078104... Val Loss: 1.693563\n",
            "Epoch: 13/25... Step: 1100... Loss: 0.018976... Val Loss: 1.769388\n",
            "Epoch: 14/25... Step: 1200... Loss: 0.095444... Val Loss: 2.227190\n",
            "Epoch: 15/25... Step: 1300... Loss: 0.131905... Val Loss: 2.456124\n",
            "Epoch: 16/25... Step: 1400... Loss: 0.134120... Val Loss: 2.725529\n",
            "Epoch: 18/25... Step: 1500... Loss: 0.016718... Val Loss: 2.098311\n",
            "Epoch: 19/25... Step: 1600... Loss: 0.005994... Val Loss: 2.392923\n",
            "Epoch: 20/25... Step: 1700... Loss: 0.014991... Val Loss: 4.151257\n",
            "Epoch: 21/25... Step: 1800... Loss: 0.013836... Val Loss: 1.916076\n",
            "Epoch: 22/25... Step: 1900... Loss: 0.044727... Val Loss: 3.785940\n",
            "Epoch: 24/25... Step: 2000... Loss: 0.003419... Val Loss: 1.912212\n"
          ],
          "name": "stdout"
        }
      ]
    },
    {
      "cell_type": "markdown",
      "metadata": {
        "id": "dx_oh_wFWnQ0",
        "colab_type": "text"
      },
      "source": [
        "## Loading and testing the model\n"
      ]
    },
    {
      "cell_type": "code",
      "metadata": {
        "id": "vZX64riBTxhI",
        "colab_type": "code",
        "colab": {
          "base_uri": "https://localhost:8080/",
          "height": 158
        },
        "outputId": "4db7fb7c-2598-4693-9abf-a2f20a71b54d"
      },
      "source": [
        "vocab_size = len(vocab_to_int)+1 # +1 for the 0 padding + our word tokens\n",
        "output_size = 3\n",
        "embedding_dim = 400\n",
        "hidden_dim = 256\n",
        "n_layers = 2\n",
        "\n",
        "# model_test = SentimentRNN(vocab_size, output_size, embedding_dim, hidden_dim, n_layers)\n",
        "\n",
        "# model_test.load_state_dict(torch.load(root_path+'/model.pt'),strict=False)\n",
        "# if train_on_gpu:\n",
        "#   print(\"using GPU\")\n",
        "#   model_test.cuda()\n",
        "# model_test.eval()\n",
        "\n",
        "# for param in model_test.parameters():\n",
        "#   print(param.data)"
      ],
      "execution_count": 53,
      "outputs": [
        {
          "output_type": "stream",
          "text": [
            "using GPU\n"
          ],
          "name": "stdout"
        },
        {
          "output_type": "execute_result",
          "data": {
            "text/plain": [
              "SentimentRNN(\n",
              "  (embedding): Embedding(53133, 400)\n",
              "  (lstm): LSTM(400, 256, num_layers=2, batch_first=True, dropout=0.5)\n",
              "  (dropout): Dropout(p=0.3)\n",
              "  (fc): Linear(in_features=256, out_features=3, bias=True)\n",
              "  (sig): Softmax()\n",
              ")"
            ]
          },
          "metadata": {
            "tags": []
          },
          "execution_count": 53
        }
      ]
    },
    {
      "cell_type": "code",
      "metadata": {
        "id": "iicRcHshW9RT",
        "colab_type": "code",
        "colab": {
          "base_uri": "https://localhost:8080/",
          "height": 195
        },
        "outputId": "ebb72c9d-9d8f-42eb-d89b-ec9b09eeddf0"
      },
      "source": [
        "test_csv = pd.read_csv(root_path + 'dataset/test.csv')\n",
        "test_csv.head()"
      ],
      "execution_count": 251,
      "outputs": [
        {
          "output_type": "execute_result",
          "data": {
            "text/html": [
              "<div>\n",
              "<style scoped>\n",
              "    .dataframe tbody tr th:only-of-type {\n",
              "        vertical-align: middle;\n",
              "    }\n",
              "\n",
              "    .dataframe tbody tr th {\n",
              "        vertical-align: top;\n",
              "    }\n",
              "\n",
              "    .dataframe thead th {\n",
              "        text-align: right;\n",
              "    }\n",
              "</style>\n",
              "<table border=\"1\" class=\"dataframe\">\n",
              "  <thead>\n",
              "    <tr style=\"text-align: right;\">\n",
              "      <th></th>\n",
              "      <th>unique_hash</th>\n",
              "      <th>text</th>\n",
              "      <th>drug</th>\n",
              "    </tr>\n",
              "  </thead>\n",
              "  <tbody>\n",
              "    <tr>\n",
              "      <th>0</th>\n",
              "      <td>9e9a8166b84114aca147bf409f6f956635034c08</td>\n",
              "      <td>256 (previously stable on natalizumab), with 5...</td>\n",
              "      <td>fingolimod</td>\n",
              "    </tr>\n",
              "    <tr>\n",
              "      <th>1</th>\n",
              "      <td>e747e6822c867571afe7b907b51f0f2ca67b0e1a</td>\n",
              "      <td>On fingolimod and have been since December 201...</td>\n",
              "      <td>fingolimod</td>\n",
              "    </tr>\n",
              "    <tr>\n",
              "      <th>2</th>\n",
              "      <td>50b6d851bcff4f35afe354937949e9948975adf7</td>\n",
              "      <td>Apparently it's shingles! :-/ I do have a few ...</td>\n",
              "      <td>humira</td>\n",
              "    </tr>\n",
              "    <tr>\n",
              "      <th>3</th>\n",
              "      <td>7f82ec2176ae6ab0b5d20b5ffc767ac829f384ae</td>\n",
              "      <td>If the Docetaxel doing once a week x3 weeks th...</td>\n",
              "      <td>tagrisso</td>\n",
              "    </tr>\n",
              "    <tr>\n",
              "      <th>4</th>\n",
              "      <td>8b37d169dee5bdae27060949242fb54feb6a7f7f</td>\n",
              "      <td>CC, Stelara worked in a matter of days for me....</td>\n",
              "      <td>stelara</td>\n",
              "    </tr>\n",
              "  </tbody>\n",
              "</table>\n",
              "</div>"
            ],
            "text/plain": [
              "                                unique_hash  ...        drug\n",
              "0  9e9a8166b84114aca147bf409f6f956635034c08  ...  fingolimod\n",
              "1  e747e6822c867571afe7b907b51f0f2ca67b0e1a  ...  fingolimod\n",
              "2  50b6d851bcff4f35afe354937949e9948975adf7  ...      humira\n",
              "3  7f82ec2176ae6ab0b5d20b5ffc767ac829f384ae  ...    tagrisso\n",
              "4  8b37d169dee5bdae27060949242fb54feb6a7f7f  ...     stelara\n",
              "\n",
              "[5 rows x 3 columns]"
            ]
          },
          "metadata": {
            "tags": []
          },
          "execution_count": 251
        }
      ]
    },
    {
      "cell_type": "code",
      "metadata": {
        "id": "pDHUBe6qYYNs",
        "colab_type": "code",
        "colab": {
          "base_uri": "https://localhost:8080/",
          "height": 72
        },
        "outputId": "37dd172b-09c3-4bc5-8287-324d80f7c269"
      },
      "source": [
        "# parse_review(review[0],review[1].translate(table).replace('’','').replace('–','').lower(), drugs_list)\n",
        "\n",
        "list(test_csv.text)[20], list(test_csv.drug)[20],"
      ],
      "execution_count": 252,
      "outputs": [
        {
          "output_type": "execute_result",
          "data": {
            "text/plain": [
              "(\"You are overthinking this. Just ask her out and see if she accepts first. If she says yes, then you can discuss where you'd like to go that would suit both of you. If she wants to talk about her Crohn's, then listen to her, but I wouldn't mention it until she does to be honest. Ditto the unsympathetic ex. Dx Crohn's in June 2000. (Yay  ) Tried: 5-ASAs, azathioprine, 6MP, Remicade, methotrexate, Humira, diets. 1st surgery 20/2/13 - subtotal colectomy with end ileostomy. 2nd surgery 10/7/15 - ileorectal anastomosis. Stoma reversed and ileum connected to the rectum. Current status: Chronic flare. Do I have any other kind? Current meds: 50mg 6MP; Entyvio (started 3/11/16)\",\n",
              " 'remicade')"
            ]
          },
          "metadata": {
            "tags": []
          },
          "execution_count": 252
        }
      ]
    },
    {
      "cell_type": "code",
      "metadata": {
        "id": "XIVBYk_YZyRb",
        "colab_type": "code",
        "colab": {}
      },
      "source": [
        ""
      ],
      "execution_count": 0,
      "outputs": []
    },
    {
      "cell_type": "code",
      "metadata": {
        "id": "yijX0xsyaWkC",
        "colab_type": "code",
        "colab": {}
      },
      "source": [
        "def get_sentiment(review, drug):\n",
        "  drugs_list = drugs.copy()\n",
        "  test_review = parse_review(list(test_csv.text)[200], list(test_csv.drug)[200], drugs_list)\n",
        "  test_input = pad_features([test_review], 600)\n",
        "  test_input = np.array(test_input)\n",
        "  # initialize hidden state\n",
        "  h = net.init_hidden(1)\n",
        "  feature_tensor = torch.from_numpy(test_input)\n",
        "    \n",
        "  batch_size = feature_tensor.size(0)\n",
        "  if(train_on_gpu):\n",
        "    feature_tensor = feature_tensor.cuda()\n",
        "\n",
        "  # get the output from the model\n",
        "  output, h = net(feature_tensor, h)  \n",
        "  return torch.exp(output).topk(1)"
      ],
      "execution_count": 0,
      "outputs": []
    },
    {
      "cell_type": "code",
      "metadata": {
        "id": "PNydsvF_b_so",
        "colab_type": "code",
        "colab": {}
      },
      "source": [
        "file = open(root_path+'submission.csv','w')\n",
        "file.write(\"unique_hash,sentiment\\n\")\n",
        "\n",
        "for i in zip(test_csv.unique_hash, test_csv.text, test_csv.drug):\n",
        "  logits = get_sentiment(i[1], i[2])\n",
        "  file.write(\"{},{}\\n\".format(i[0],*logits.indices[0].to('cpu').numpy()))\n",
        "file.close()"
      ],
      "execution_count": 0,
      "outputs": []
    },
    {
      "cell_type": "code",
      "metadata": {
        "id": "uLLivckmcLz2",
        "colab_type": "code",
        "colab": {
          "base_uri": "https://localhost:8080/",
          "height": 34
        },
        "outputId": "097886aa-1b77-4783-9b94-548fbd850964"
      },
      "source": [
        "sub = pd.read_csv(root_path+'submission.csv')\n",
        "set(sub.sentiment)\n"
      ],
      "execution_count": 283,
      "outputs": [
        {
          "output_type": "execute_result",
          "data": {
            "text/plain": [
              "{2}"
            ]
          },
          "metadata": {
            "tags": []
          },
          "execution_count": 283
        }
      ]
    },
    {
      "cell_type": "code",
      "metadata": {
        "id": "RqKw_rYac6Aa",
        "colab_type": "code",
        "colab": {}
      },
      "source": [
        ""
      ],
      "execution_count": 0,
      "outputs": []
    },
    {
      "cell_type": "code",
      "metadata": {
        "id": "v1Z8wn6icW0e",
        "colab_type": "code",
        "colab": {}
      },
      "source": [
        ""
      ],
      "execution_count": 0,
      "outputs": []
    },
    {
      "cell_type": "code",
      "metadata": {
        "id": "LVejbLTldz-R",
        "colab_type": "code",
        "colab": {}
      },
      "source": [
        ""
      ],
      "execution_count": 0,
      "outputs": []
    }
  ]
}