{
  "nbformat": 4,
  "nbformat_minor": 0,
  "metadata": {
    "kernelspec": {
      "display_name": "Python 3",
      "language": "python",
      "name": "python3"
    },
    "language_info": {
      "codemirror_mode": {
        "name": "ipython",
        "version": 3
      },
      "file_extension": ".py",
      "mimetype": "text/x-python",
      "name": "python",
      "nbconvert_exporter": "python",
      "pygments_lexer": "ipython3",
      "version": "3.6.5"
    },
    "colab": {
      "name": "sentiment_analysis.ipynb",
      "version": "0.3.2",
      "provenance": [],
      "collapsed_sections": []
    }
  },
  "cells": [
    {
      "cell_type": "markdown",
      "metadata": {
        "id": "-bWkYBE5QO2n",
        "colab_type": "text"
      },
      "source": [
        "# sentiment analyis project"
      ]
    },
    {
      "cell_type": "code",
      "metadata": {
        "id": "VS_fl1tQQR9I",
        "colab_type": "code",
        "colab": {
          "base_uri": "https://localhost:8080/",
          "height": 34
        },
        "outputId": "e2cd8603-edfb-451a-bd16-c01fa9568e10"
      },
      "source": [
        "from google.colab import drive\n",
        "\n",
        "drive.mount('/content/gdrive/')"
      ],
      "execution_count": 1,
      "outputs": [
        {
          "output_type": "stream",
          "text": [
            "Drive already mounted at /content/gdrive/; to attempt to forcibly remount, call drive.mount(\"/content/gdrive/\", force_remount=True).\n"
          ],
          "name": "stdout"
        }
      ]
    },
    {
      "cell_type": "code",
      "metadata": {
        "id": "fGUbY62SQWNY",
        "colab_type": "code",
        "colab": {}
      },
      "source": [
        "root_path = '/content/gdrive/My Drive/sentiment_analysis/'"
      ],
      "execution_count": 0,
      "outputs": []
    },
    {
      "cell_type": "markdown",
      "metadata": {
        "id": "xunShkUVQO2o",
        "colab_type": "text"
      },
      "source": [
        "## Preprocess and prepare a vocabulary"
      ]
    },
    {
      "cell_type": "code",
      "metadata": {
        "id": "VuCvslpPQO2p",
        "colab_type": "code",
        "colab": {}
      },
      "source": [
        "# Imports \n",
        "import pandas as pd\n",
        "from matplotlib import pyplot as plt\n",
        "from collections import Counter\n",
        "import numpy as np\n",
        "import plotly.offline as pyo\n",
        "from string import punctuation\n"
      ],
      "execution_count": 0,
      "outputs": []
    },
    {
      "cell_type": "code",
      "metadata": {
        "id": "IQOYHxzFQO2t",
        "colab_type": "code",
        "colab": {
          "base_uri": "https://localhost:8080/",
          "height": 34
        },
        "outputId": "7d42f079-88b8-4598-ba7a-80d7438aea44"
      },
      "source": [
        "# Reading the data to a csv\n",
        "# Reading the data from csv\n",
        "train_csv = pd.read_csv(root_path+'dataset/train.csv')\n",
        "print(len(train_csv.text))"
      ],
      "execution_count": 4,
      "outputs": [
        {
          "output_type": "stream",
          "text": [
            "5279\n"
          ],
          "name": "stdout"
        }
      ]
    },
    {
      "cell_type": "code",
      "metadata": {
        "id": "HOWOexDMQO2z",
        "colab_type": "code",
        "colab": {
          "base_uri": "https://localhost:8080/",
          "height": 34
        },
        "outputId": "35c83cc4-5581-44cf-de38-0f3de35fd5a4"
      },
      "source": [
        "punctuation\n"
      ],
      "execution_count": 5,
      "outputs": [
        {
          "output_type": "execute_result",
          "data": {
            "text/plain": [
              "'!\"#$%&\\'()*+,-./:;<=>?@[\\\\]^_`{|}~'"
            ]
          },
          "metadata": {
            "tags": []
          },
          "execution_count": 5
        }
      ]
    },
    {
      "cell_type": "code",
      "metadata": {
        "id": "LIyEf1YQQO23",
        "colab_type": "code",
        "colab": {}
      },
      "source": [
        "reviews = ' '.join(list(train_csv.text))\n"
      ],
      "execution_count": 0,
      "outputs": []
    },
    {
      "cell_type": "code",
      "metadata": {
        "id": "1kJuLBCqQO25",
        "colab_type": "code",
        "colab": {
          "base_uri": "https://localhost:8080/",
          "height": 34
        },
        "outputId": "d58fbf7c-6534-44c7-ca7d-de1ae3d69533"
      },
      "source": [
        "type(reviews)"
      ],
      "execution_count": 7,
      "outputs": [
        {
          "output_type": "execute_result",
          "data": {
            "text/plain": [
              "str"
            ]
          },
          "metadata": {
            "tags": []
          },
          "execution_count": 7
        }
      ]
    },
    {
      "cell_type": "code",
      "metadata": {
        "id": "pVVGstDNQO29",
        "colab_type": "code",
        "colab": {
          "base_uri": "https://localhost:8080/",
          "height": 1000
        },
        "outputId": "1c8c9e24-6c8b-4125-ae3d-a149c3d9a559"
      },
      "source": [
        "reviews = reviews.lower() # lowercase, standardize\n",
        "print(reviews[0:100])\n",
        "all_text = ''.join([c for c in reviews if c not in punctuation])\n",
        "\n",
        "# split by new lines and spaces\n",
        "reviews_split = all_text.split('\\n')\n",
        "all_text = ' '.join(reviews_split)\n",
        "\n",
        "# create a list of words\n",
        "words = all_text.split()\n",
        "words[0:100]"
      ],
      "execution_count": 8,
      "outputs": [
        {
          "output_type": "stream",
          "text": [
            "autoimmune diseases tend to come in clusters. as for gilenya – if you feel good, don’t think about i\n"
          ],
          "name": "stdout"
        },
        {
          "output_type": "execute_result",
          "data": {
            "text/plain": [
              "['autoimmune',\n",
              " 'diseases',\n",
              " 'tend',\n",
              " 'to',\n",
              " 'come',\n",
              " 'in',\n",
              " 'clusters',\n",
              " 'as',\n",
              " 'for',\n",
              " 'gilenya',\n",
              " '–',\n",
              " 'if',\n",
              " 'you',\n",
              " 'feel',\n",
              " 'good',\n",
              " 'don’t',\n",
              " 'think',\n",
              " 'about',\n",
              " 'it',\n",
              " 'it',\n",
              " 'won’t',\n",
              " 'change',\n",
              " 'anything',\n",
              " 'but',\n",
              " 'waste',\n",
              " 'your',\n",
              " 'time',\n",
              " 'and',\n",
              " 'energy',\n",
              " 'i’m',\n",
              " 'taking',\n",
              " 'tysabri',\n",
              " 'and',\n",
              " 'feel',\n",
              " 'amazing',\n",
              " 'no',\n",
              " 'symptoms',\n",
              " 'other',\n",
              " 'than',\n",
              " 'dodgy',\n",
              " 'color',\n",
              " 'vision',\n",
              " 'but',\n",
              " 'i’ve',\n",
              " 'had',\n",
              " 'it',\n",
              " 'since',\n",
              " 'always',\n",
              " 'so',\n",
              " 'don’t',\n",
              " 'know',\n",
              " 'and',\n",
              " 'i',\n",
              " 'don’t',\n",
              " 'know',\n",
              " 'if',\n",
              " 'it',\n",
              " 'will',\n",
              " 'last',\n",
              " 'a',\n",
              " 'month',\n",
              " 'a',\n",
              " 'year',\n",
              " 'a',\n",
              " 'decade',\n",
              " 'ive',\n",
              " 'just',\n",
              " 'decided',\n",
              " 'to',\n",
              " 'enjoy',\n",
              " 'the',\n",
              " 'ride',\n",
              " 'no',\n",
              " 'point',\n",
              " 'in',\n",
              " 'worrying',\n",
              " 'i',\n",
              " 'can',\n",
              " 'completely',\n",
              " 'understand',\n",
              " 'why',\n",
              " 'you’d',\n",
              " 'want',\n",
              " 'to',\n",
              " 'try',\n",
              " 'it',\n",
              " 'but',\n",
              " 'results',\n",
              " 'reported',\n",
              " 'in',\n",
              " 'lectures',\n",
              " 'don’t',\n",
              " 'always',\n",
              " 'stand',\n",
              " 'up',\n",
              " 'to',\n",
              " 'the',\n",
              " 'scrutiny',\n",
              " 'of',\n",
              " 'peerreview']"
            ]
          },
          "metadata": {
            "tags": []
          },
          "execution_count": 8
        }
      ]
    },
    {
      "cell_type": "code",
      "metadata": {
        "id": "6F5g00jkQO3A",
        "colab_type": "code",
        "colab": {
          "base_uri": "https://localhost:8080/",
          "height": 70
        },
        "outputId": "02914526-1e2e-443c-cddb-f4272ff7fc58"
      },
      "source": [
        "# imports for nltk stop words\n",
        "# Load library\n",
        "from nltk.corpus import stopwords\n",
        "\n",
        "# You will have to download the set of stop words the first time\n",
        "import nltk\n",
        "nltk.download('stopwords')\n"
      ],
      "execution_count": 9,
      "outputs": [
        {
          "output_type": "stream",
          "text": [
            "[nltk_data] Downloading package stopwords to /root/nltk_data...\n",
            "[nltk_data]   Unzipping corpora/stopwords.zip.\n"
          ],
          "name": "stdout"
        },
        {
          "output_type": "execute_result",
          "data": {
            "text/plain": [
              "True"
            ]
          },
          "metadata": {
            "tags": []
          },
          "execution_count": 9
        }
      ]
    },
    {
      "cell_type": "code",
      "metadata": {
        "id": "C4Awp23YQO3E",
        "colab_type": "code",
        "colab": {}
      },
      "source": [
        ""
      ],
      "execution_count": 0,
      "outputs": []
    },
    {
      "cell_type": "code",
      "metadata": {
        "id": "XFyDfG2aQO3G",
        "colab_type": "code",
        "colab": {}
      },
      "source": [
        "new_words = [word for word in words if word not in stopwords.words('english')]\n"
      ],
      "execution_count": 0,
      "outputs": []
    },
    {
      "cell_type": "code",
      "metadata": {
        "id": "ceKFWZxfQO3J",
        "colab_type": "code",
        "colab": {
          "base_uri": "https://localhost:8080/",
          "height": 34
        },
        "outputId": "4765852a-bb8f-4b06-8ae6-c72333a55e36"
      },
      "source": [
        "len(new_words)"
      ],
      "execution_count": 11,
      "outputs": [
        {
          "output_type": "execute_result",
          "data": {
            "text/plain": [
              "1060060"
            ]
          },
          "metadata": {
            "tags": []
          },
          "execution_count": 11
        }
      ]
    },
    {
      "cell_type": "code",
      "metadata": {
        "id": "4Kub8nHUQO3M",
        "colab_type": "code",
        "colab": {}
      },
      "source": [
        "vocabulary_latest = [word for word in new_words if len(word) > 2]"
      ],
      "execution_count": 0,
      "outputs": []
    },
    {
      "cell_type": "code",
      "metadata": {
        "id": "C9s2ZJQJQO3P",
        "colab_type": "code",
        "colab": {
          "base_uri": "https://localhost:8080/",
          "height": 34
        },
        "outputId": "212bb520-d27a-4aef-d0c1-c9cbbd855477"
      },
      "source": [
        "len(vocabulary_latest)"
      ],
      "execution_count": 13,
      "outputs": [
        {
          "output_type": "execute_result",
          "data": {
            "text/plain": [
              "999239"
            ]
          },
          "metadata": {
            "tags": []
          },
          "execution_count": 13
        }
      ]
    },
    {
      "cell_type": "code",
      "metadata": {
        "id": "khgUrT6IQO3S",
        "colab_type": "code",
        "colab": {
          "base_uri": "https://localhost:8080/",
          "height": 1000
        },
        "outputId": "44cf0f1d-0f72-4505-cb75-ec63660d22ae"
      },
      "source": [
        "vocabulary_latest[0:100]"
      ],
      "execution_count": 14,
      "outputs": [
        {
          "output_type": "execute_result",
          "data": {
            "text/plain": [
              "['autoimmune',\n",
              " 'diseases',\n",
              " 'tend',\n",
              " 'come',\n",
              " 'clusters',\n",
              " 'gilenya',\n",
              " 'feel',\n",
              " 'good',\n",
              " 'don’t',\n",
              " 'think',\n",
              " 'won’t',\n",
              " 'change',\n",
              " 'anything',\n",
              " 'waste',\n",
              " 'time',\n",
              " 'energy',\n",
              " 'i’m',\n",
              " 'taking',\n",
              " 'tysabri',\n",
              " 'feel',\n",
              " 'amazing',\n",
              " 'symptoms',\n",
              " 'dodgy',\n",
              " 'color',\n",
              " 'vision',\n",
              " 'i’ve',\n",
              " 'since',\n",
              " 'always',\n",
              " 'don’t',\n",
              " 'know',\n",
              " 'don’t',\n",
              " 'know',\n",
              " 'last',\n",
              " 'month',\n",
              " 'year',\n",
              " 'decade',\n",
              " 'ive',\n",
              " 'decided',\n",
              " 'enjoy',\n",
              " 'ride',\n",
              " 'point',\n",
              " 'worrying',\n",
              " 'completely',\n",
              " 'understand',\n",
              " 'you’d',\n",
              " 'want',\n",
              " 'try',\n",
              " 'results',\n",
              " 'reported',\n",
              " 'lectures',\n",
              " 'don’t',\n",
              " 'always',\n",
              " 'stand',\n",
              " 'scrutiny',\n",
              " 'peerreview',\n",
              " 'publication',\n",
              " 'much',\n",
              " 'still',\n",
              " 'convincing',\n",
              " 'hope',\n",
              " 'work',\n",
              " 'really',\n",
              " 'you’re',\n",
              " 'aware',\n",
              " 'happy',\n",
              " 'risks',\n",
              " 'that’s',\n",
              " 'great',\n",
              " 'think',\n",
              " 'it’s',\n",
              " 'important',\n",
              " 'present',\n",
              " 'balanced',\n",
              " 'way',\n",
              " 'understand',\n",
              " 'don’t',\n",
              " 'move',\n",
              " 'straight',\n",
              " 'first',\n",
              " 'show',\n",
              " 'promise',\n",
              " 'animal',\n",
              " 'study',\n",
              " 'using',\n",
              " 'drugs',\n",
              " 'humans',\n",
              " 'there’s',\n",
              " 'still',\n",
              " 'lot',\n",
              " 'animal',\n",
              " 'data',\n",
              " 'gather',\n",
              " 'human',\n",
              " 'data',\n",
              " 'gather',\n",
              " 'anyone',\n",
              " 'tell',\n",
              " 'it’s',\n",
              " 'safe',\n",
              " 'effective']"
            ]
          },
          "metadata": {
            "tags": []
          },
          "execution_count": 14
        }
      ]
    },
    {
      "cell_type": "markdown",
      "metadata": {
        "id": "wFx6NEbfQO3X",
        "colab_type": "text"
      },
      "source": [
        "# pickling the progress"
      ]
    },
    {
      "cell_type": "code",
      "metadata": {
        "id": "V528nPX7QO3Y",
        "colab_type": "code",
        "colab": {}
      },
      "source": [
        "import pickle"
      ],
      "execution_count": 0,
      "outputs": []
    },
    {
      "cell_type": "code",
      "metadata": {
        "id": "2k6h9pnVQO3a",
        "colab_type": "code",
        "colab": {}
      },
      "source": [
        "complete_vocabulary = open(root_path + 'pickle/complete_vocabulary.pickle','wb')\n",
        "vocabulary_g3 = open(root_path + 'pickle/vocabulary_g3.pickle','wb')\n",
        "\n",
        "pickle.dump(new_words, complete_vocabulary)\n",
        "pickle.dump(vocabulary_latest, vocabulary_g3)\n",
        "\n",
        "complete_vocabulary.close()\n",
        "vocabulary_g3.close()"
      ],
      "execution_count": 0,
      "outputs": []
    },
    {
      "cell_type": "code",
      "metadata": {
        "id": "aDRCZdgMQO3e",
        "colab_type": "code",
        "colab": {}
      },
      "source": [
        "file = open(root_path + 'pickle/complete_vocabulary.pickle','rb')\n",
        "words = pickle.load(file)"
      ],
      "execution_count": 0,
      "outputs": []
    },
    {
      "cell_type": "markdown",
      "metadata": {
        "id": "Q_hP88U0QO3j",
        "colab_type": "text"
      },
      "source": [
        "## Tokenizing the words"
      ]
    },
    {
      "cell_type": "code",
      "metadata": {
        "id": "0NDwghhrQO3k",
        "colab_type": "code",
        "colab": {}
      },
      "source": [
        "# feel free to use this import \n",
        "from collections import Counter\n",
        "\n",
        "## Build a dictionary that maps words to integers\n",
        "counts = Counter(new_words)\n",
        "vocab = sorted(counts, key=counts.get, reverse=True)\n",
        "vocab_to_int = {word: ii for ii, word in enumerate(vocab, 1)}\n",
        "int_to_vocab = {ii: word for ii, word in enumerate(vocab, 1)}\n"
      ],
      "execution_count": 0,
      "outputs": []
    },
    {
      "cell_type": "code",
      "metadata": {
        "id": "8NHDEa4cQO3n",
        "colab_type": "code",
        "colab": {}
      },
      "source": [
        "vocab_to_int_pickle = open(root_path  + 'pickle/vocab_to_int.pickle','wb')\n",
        "int_to_vocab_pickle = open(root_path + 'pickle/int_to_vocab.pickle','wb')\n",
        "\n",
        "pickle.dump(vocab_to_int,vocab_to_int_pickle)\n",
        "pickle.dump(int_to_vocab,int_to_vocab_pickle)\n",
        "\n",
        "vocab_to_int_pickle.close()\n",
        "int_to_vocab_pickle.close()"
      ],
      "execution_count": 0,
      "outputs": []
    },
    {
      "cell_type": "code",
      "metadata": {
        "id": "dYCgsSTgQO3u",
        "colab_type": "code",
        "colab": {}
      },
      "source": [
        "import json\n",
        "# json.dumps(vocab_to_int)"
      ],
      "execution_count": 0,
      "outputs": []
    },
    {
      "cell_type": "markdown",
      "metadata": {
        "id": "XMLZnIuFQO3z",
        "colab_type": "text"
      },
      "source": [
        "# Functions to tokenize the raw review and label"
      ]
    },
    {
      "cell_type": "code",
      "metadata": {
        "id": "klR3E_cTQO30",
        "colab_type": "code",
        "colab": {}
      },
      "source": [
        "def tokenize_review(review):\n",
        "    review = ''.join([c for c in review if c not in punctuation])\n",
        "    tokens = []\n",
        "    for word in review.split(' '):\n",
        "      \n",
        "        try:\n",
        "            token = vocab_to_int[word.lower()]\n",
        "        except KeyError:\n",
        "            token = 0\n",
        "        tokens.append(token)\n",
        "    return tokens"
      ],
      "execution_count": 0,
      "outputs": []
    },
    {
      "cell_type": "code",
      "metadata": {
        "id": "HciTJCm7QO32",
        "colab_type": "code",
        "colab": {
          "base_uri": "https://localhost:8080/",
          "height": 1000
        },
        "outputId": "45357005-c1a9-4581-e683-4697dc2135fc"
      },
      "source": [
        "tokenize_review(list(train_csv.text)[0])"
      ],
      "execution_count": 37,
      "outputs": [
        {
          "output_type": "execute_result",
          "data": {
            "text/plain": [
              "[965,\n",
              " 418,\n",
              " 1934,\n",
              " 0,\n",
              " 307,\n",
              " 0,\n",
              " 9972,\n",
              " 0,\n",
              " 0,\n",
              " 92,\n",
              " 68,\n",
              " 0,\n",
              " 0,\n",
              " 128,\n",
              " 41,\n",
              " 207,\n",
              " 79,\n",
              " 0,\n",
              " 0,\n",
              " 0,\n",
              " 1577,\n",
              " 229,\n",
              " 375,\n",
              " 0,\n",
              " 4864,\n",
              " 0,\n",
              " 15,\n",
              " 0,\n",
              " 1168,\n",
              " 73,\n",
              " 69,\n",
              " 198,\n",
              " 0,\n",
              " 128,\n",
              " 1578,\n",
              " 0,\n",
              " 53,\n",
              " 0,\n",
              " 0,\n",
              " 11641,\n",
              " 2140,\n",
              " 243,\n",
              " 0,\n",
              " 247,\n",
              " 0,\n",
              " 0,\n",
              " 59,\n",
              " 293,\n",
              " 0,\n",
              " 207,\n",
              " 39,\n",
              " 0,\n",
              " 0,\n",
              " 207,\n",
              " 39,\n",
              " 0,\n",
              " 0,\n",
              " 0,\n",
              " 78,\n",
              " 0,\n",
              " 272,\n",
              " 0,\n",
              " 47,\n",
              " 0,\n",
              " 3523,\n",
              " 277,\n",
              " 0,\n",
              " 946,\n",
              " 0,\n",
              " 2442,\n",
              " 0,\n",
              " 3251,\n",
              " 0,\n",
              " 419,\n",
              " 0,\n",
              " 4255]"
            ]
          },
          "metadata": {
            "tags": []
          },
          "execution_count": 37
        }
      ]
    },
    {
      "cell_type": "code",
      "metadata": {
        "id": "DgaFKMYfQO36",
        "colab_type": "code",
        "colab": {}
      },
      "source": [
        "def tokenize_setiment(label):\n",
        "  if label == '0' or label == 0:\n",
        "    return [0, 0, 0]\n",
        "  elif label == '1' or label == 1:\n",
        "    return [0, 1, 0]\n",
        "  elif label == '2' or label == 2:\n",
        "    return [0, 0, 1]\n",
        "  else:\n",
        "    return None"
      ],
      "execution_count": 0,
      "outputs": []
    },
    {
      "cell_type": "code",
      "metadata": {
        "id": "GupoQj5kUUUe",
        "colab_type": "code",
        "colab": {
          "base_uri": "https://localhost:8080/",
          "height": 34
        },
        "outputId": "e4a36c4d-de4d-44df-9b7d-a574b3ac9629"
      },
      "source": [
        "tokenize_setiment(list(train_csv.sentiment)[2000])"
      ],
      "execution_count": 53,
      "outputs": [
        {
          "output_type": "execute_result",
          "data": {
            "text/plain": [
              "[0, 0, 1]"
            ]
          },
          "metadata": {
            "tags": []
          },
          "execution_count": 53
        }
      ]
    },
    {
      "cell_type": "code",
      "metadata": {
        "id": "fFloY63cUiHu",
        "colab_type": "code",
        "colab": {}
      },
      "source": [
        ""
      ],
      "execution_count": 0,
      "outputs": []
    }
  ]
}